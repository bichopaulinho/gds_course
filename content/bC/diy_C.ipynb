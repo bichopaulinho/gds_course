{
 "cells": [
  {
   "cell_type": "markdown",
   "metadata": {},
   "source": [
    "# Do-It-Yourself\n",
    "\n",
    "In this session, we will practice your skills in mapping with Python. Fire up a notebook you can edit interactively, and let's do this!\n",
    "\n"
   ]
  },
  {
   "cell_type": "code",
   "execution_count": 1,
   "metadata": {},
   "outputs": [],
   "source": [
    "import geopandas, osmnx"
   ]
  },
  {
   "cell_type": "code",
   "execution_count": 2,
   "metadata": {
    "tags": [
     "remove-cell"
    ]
   },
   "outputs": [],
   "source": [
    "osmnx.config(\n",
    "    overpass_settings='[out:json][timeout:90][date:\"2020-09-07T00:00:00Z\"]'\n",
    ")"
   ]
  },
  {
   "cell_type": "markdown",
   "metadata": {},
   "source": [
    "## Data preparation\n",
    "\n",
    "### Polygons\n",
    "\n",
    "For this section, you will have to push yourself out of the comfort zone when it comes to sourcing the data. As nice as it is to be able to pull a dataset directly from the web at the stroke of a url address, most real-world cases are not that straight forward. Instead, you usually have to download a dataset manually and store it locally on your computer before you can get to work.\n",
    "\n",
    "We are going to use data from the Consumer Data Research Centre (CDRC) about Liverpool, in particular an extract from the Census. You can download a copy of the data at:\n",
    "\n",
    "```{admonition} Important\n",
    "You will need a username and password to download the data. Create it for free at:\n",
    "\n",
    "> [https://data.cdrc.ac.uk/user/register](https://data.cdrc.ac.uk/user/register)\n",
    "```\n",
    "\n",
    "> [Liverpool Census'11 Residential data pack download](https://data.cdrc.ac.uk/system/files/Census_Residential_Data_Pack_2011/Census_Residential_Data_Pack_2011_E08000012.zip)\n",
    "\n",
    "Once you have the `.zip` file on your computer, right-click and \"Extract all\". The resulting folder will contain all you need. For the sake of the example, let's assume you place the resulting folder in the same location as the notebook you are using. If that is the case, you can load up a `GeoDataFrame` of Liverpool neighborhoods with:\n",
    "\n",
    "```python\n",
    "import geopandas\n",
    "liv = geopandas.read_file(\"Census_Residential_Data_Pack_2011_E08000012/data/Census_Residential_Data_Pack_2011/Local_Authority_Districts/E08000012/shapefiles/E08000012.shp\")\n",
    "```\n",
    "\n",
    "### Lines\n",
    "\n",
    "For a line layer, we are going to use a different bit of `osmnx` functionality that will allow us to extract all the highways"
   ]
  },
  {
   "cell_type": "code",
   "execution_count": 3,
   "metadata": {},
   "outputs": [],
   "source": [
    "bikepaths = osmnx.graph_from_place(\"Liverpool, UK\", network_type=\"bike\")"
   ]
  },
  {
   "cell_type": "code",
   "execution_count": 4,
   "metadata": {},
   "outputs": [
    {
     "data": {
      "text/plain": [
       "23481"
      ]
     },
     "execution_count": 4,
     "metadata": {},
     "output_type": "execute_result"
    }
   ],
   "source": [
    "len(bikepaths)"
   ]
  },
  {
   "cell_type": "markdown",
   "metadata": {},
   "source": [
    "### Points\n",
    "\n",
    "For points, we will use an analogue of the POI layer we have used in the [Lab](lab_C): pubs in Liverpool, as recorded by OpenStreetMap.\n",
    "\n",
    "Let's import `osmnx`:"
   ]
  },
  {
   "cell_type": "code",
   "execution_count": 5,
   "metadata": {},
   "outputs": [],
   "source": [
    "import osmnx"
   ]
  },
  {
   "cell_type": "markdown",
   "metadata": {},
   "source": [
    "And make a similar query to retrieve the table:"
   ]
  },
  {
   "cell_type": "code",
   "execution_count": 6,
   "metadata": {},
   "outputs": [],
   "source": [
    "pubs = osmnx.geometries_from_place(\n",
    "    \"Zaragoza, Spain\", tags={\"amenity\": \"bar\"}\n",
    ")"
   ]
  },
  {
   "cell_type": "markdown",
   "metadata": {},
   "source": [
    "## Tasks\n",
    "\n",
    "### Task I: *Tweak your map*\n",
    "\n",
    "With those three layers, try to complete the following tasks:\n",
    "\n",
    "- Make a map of the Liverpool neighborhoods that includes the following characteristics:\n",
    "\n",
    "    - Features a title\n",
    "    - Does not include axes frame\n",
    "    - It has a figure size of 10 by 11\n",
    "    - Polygons are all in color `\"#525252\"` and 50% transparent\n",
    "    - Boundary lines (\"edges\") have a width of 0.3 and are of color `\"#B9EBE3\"`\n",
    "    - Includes a basemap with the [Stamen watercolor theme](https://contextily.readthedocs.io/en/latest/providers_deepdive.html#Overview-of-built-in-providers)\n",
    "    \n",
    "```{Note}\n",
    "Not all of the requirements above are not equally hard to achieve. If you can get some but not all of them, that's also great! The point is you learn something every time you try.\n",
    "```"
   ]
  },
  {
   "cell_type": "markdown",
   "metadata": {},
   "source": [
    "### Task II: *Non-spatial manipulations*\n",
    "\n",
    "For this one we will combine some of the ideas we learnt in the [previous block](../bB/lab_B) with this one.\n",
    "\n",
    "Focus on the LSOA `liv` layer and use it to do the following:\n",
    "\n",
    "1. Calculate the area of each neighbourhood\n",
    "1. Find the five smallest areas in the table. Create a new object (e.g. `smallest` with them only)\n",
    "1. Create a multi-layer map of Liverpool where the five smallest areas are coloured in red, and the rest appear in black."
   ]
  },
  {
   "cell_type": "markdown",
   "metadata": {},
   "source": [
    "### Task III: *The gender gap on the streets*\n",
    "\n",
    "This one is a bit more advanced, so don't despair if you can't get it on your first try. It also relies on the {ref}`streets dataset from the \"Hands-on\" section <lab_C:streets>`, so you will need to load it up on your own. Here're the questions for you to answer:\n",
    "\n",
    "> *Which group accounts for longer total street length in Zaragoza: men or women? By how much*?\n",
    "\n",
    "The suggestion is that you get to work right away. However, if this task seems too daunting, you can expand the tip below for a bit of help.\n",
    "\n",
    "```{tip}\n",
    ":class: dropdown\n",
    "\n",
    "Answering those two questions involves the following steps:\n",
    "1. You will need your spatial data projected, so they are expressed in metres, and the length calculation makes sense. Check out the {ref}`section on transforming the CRS <lab_C:to_crs>`, and use, for example `EPSG:25830` as the target CRS.\n",
    "1. Separate streets named after men from those named after women, perhaps in two objects (`men`, `women`) that contain the streets for each group. This is a non-spatial query at its heart, so make sure to revisit {ref}`that section on the previous block <lab_B:condition_queries>`.\n",
    "1. Calculate the length of each street in each group. Refresh your memory of this in {ref}`this section <lab_C:length>`.\n",
    "1. Create a total length by group by adding the lengths of each street. This is again a non-spatial operation (sum), so make sure to re-read {ref}`this part <lab_B:new_columns>` of Block B.\n",
    "1. Compare the two and answer the questions. \n",
    "\n",
    "Surprised by the solution? Perhaps not, but remember data analysis is not only about discovering the unexpected, but about providing evidence of the things we *\"know\"* so we can build better arguments about actions.\n",
    "```"
   ]
  }
 ],
 "metadata": {
  "kernelspec": {
   "display_name": "Python 3",
   "language": "python",
   "name": "python3"
  },
  "language_info": {
   "codemirror_mode": {
    "name": "ipython",
    "version": 3
   },
   "file_extension": ".py",
   "mimetype": "text/x-python",
   "name": "python",
   "nbconvert_exporter": "python",
   "pygments_lexer": "ipython3",
   "version": "3.8.8"
  }
 },
 "nbformat": 4,
 "nbformat_minor": 4
}
