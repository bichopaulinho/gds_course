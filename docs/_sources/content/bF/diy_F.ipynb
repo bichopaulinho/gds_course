{
 "cells": [
  {
   "cell_type": "markdown",
   "metadata": {},
   "source": [
    "# Do-It-Yourself\n",
    "\n",
    "In this block, the DIY section is more straightforward: we have a few tasks, but they are all around the same dataset. The tasks incorporates all the bits and pieces we have seen on the [hands-on](lab_D) section."
   ]
  },
  {
   "cell_type": "markdown",
   "metadata": {},
   "source": [
    "## Data preparation\n",
    "\n",
    "For this section, we are going to revisit the AHAH dataset we saw in the [DIY section of Block D](../bD/diy_D). Please head over to the section to refresh your mind about how to load up the required data. Once you have successfully created the `ahah` {ref}`object <diy_D:ahah_read>`, move on to Task I."
   ]
  },
  {
   "cell_type": "markdown",
   "metadata": {},
   "source": [
    "## Task I: get the dataset ready\n",
    "\n",
    "With the `ahah` table on your figertips, complete all the other bits required for the ESDA analysis of spatial autocorrelation:\n",
    "\n",
    "- Make sure your geography does not have islands\n",
    "```{margin}\n",
    ":class: tip\n",
    "When creating your spatial weights matrix, think of one criterium to build it that you think would fit this variable (e.g. contiguity, distance-based, etc.), and apply it.\n",
    "```\n",
    "- Create a spatial weights matrix\n",
    "- Standardise the spatial weights matrix\n",
    "- Create the standardised version of the AHAH score\n",
    "- Create the spatial lag of the main AHAH score\n"
   ]
  },
  {
   "cell_type": "markdown",
   "metadata": {},
   "source": [
    "## Task II: global spatial autocorrelation\n",
    "\n",
    "Let's move on to the analytics:\n",
    "\n",
    "- Visualise the main AHAH score with a Moran Plot\n",
    "- Calculate Moran's I\n",
    "- *What conclusions can you reach from the Moran Plot and Moran's I? What's the main spatial pattern?*"
   ]
  },
  {
   "cell_type": "markdown",
   "metadata": {},
   "source": [
    "## Task III: local spatial autocorrelation\n",
    "\n",
    "Now that you have a good sense of the overall pattern in the AHAH dataset, let's move to the local scale:\n",
    "\n",
    "- Calculate LISA statistics for the LSOA areas\n",
    "- Make a map of significant clusters at the 5%\n",
    "- *Can you identify hotspots or coldspots? If so, what do they mean? What about spatial outliers?*\n",
    "````{margin}\n",
    "```{warning}\n",
    "The last action is a bit more sophisticated, put all your brain power into it and you'll achieve it!\n",
    "```\n",
    "````\n",
    "- Create cluster maps for significance levels 1% and 10%; compare them with the one we obtained. *What are the main changes? Why?*"
   ]
  }
 ],
 "metadata": {
  "kernelspec": {
   "display_name": "Python 3",
   "language": "python",
   "name": "python3"
  },
  "language_info": {
   "codemirror_mode": {
    "name": "ipython",
    "version": 3
   },
   "file_extension": ".py",
   "mimetype": "text/x-python",
   "name": "python",
   "nbconvert_exporter": "python",
   "pygments_lexer": "ipython3",
   "version": "3.8.8"
  }
 },
 "nbformat": 4,
 "nbformat_minor": 4
}
